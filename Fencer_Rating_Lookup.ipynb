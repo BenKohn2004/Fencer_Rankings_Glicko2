{
  "nbformat": 4,
  "nbformat_minor": 0,
  "metadata": {
    "colab": {
      "name": "Fencer_Rating_Lookup.ipynb",
      "provenance": [],
      "collapsed_sections": [],
      "authorship_tag": "ABX9TyNvQl41ga2kZokHe4ybNkUU",
      "include_colab_link": true
    },
    "kernelspec": {
      "name": "python3",
      "display_name": "Python 3"
    },
    "language_info": {
      "name": "python"
    }
  },
  "cells": [
    {
      "cell_type": "markdown",
      "metadata": {
        "id": "view-in-github",
        "colab_type": "text"
      },
      "source": [
        "<a href=\"https://colab.research.google.com/github/BenKohn2004/Fencer_Rankings_Glicko2/blob/main/Fencer_Rating_Lookup.ipynb\" target=\"_parent\"><img src=\"https://colab.research.google.com/assets/colab-badge.svg\" alt=\"Open In Colab\"/></a>"
      ]
    },
    {
      "cell_type": "code",
      "source": [
        "import pandas as pd\n",
        "!wget --load-cookies /tmp/cookies.txt \"https://docs.google.com/uc?export=download&confirm=$(wget --quiet --save-cookies /tmp/cookies.txt --keep-session-cookies --no-check-certificate 'https://docs.google.com/uc?export=download&id=1yHoRfcrSgtPlyasEDEFITac-bglm32UM' -O- | sed -rn 's/.*confirm=([0-9A-Za-z_]+).*/\\1\\n/p')&id=1yHoRfcrSgtPlyasEDEFITac-bglm32UM\" -O df_fencing_ratings.csv && rm -rf /tmp/cookies.txt\n",
        "df_fencing_ratings = pd.read_csv(\"df_fencing_ratings.csv\")\n",
        "df_fencing_ratings = df_fencing_ratings.drop(columns = 'Unnamed: 0')\n",
        "\n",
        "df_fencing_ratings_simpler = df_fencing_ratings.drop(columns=['foil_phi', 'foil_sigma', 'epee_phi', 'epee_sigma', 'saber_phi', 'saber_sigma'])\n",
        "df_fencing_ratings_simpler = df_fencing_ratings_simpler.rename(columns={\"foil_mu\": \"Foil Rating\", \"epee_mu\": \"Epee Rating\", \"saber_mu\": \"Saber Rating\", \"Best_Opp\": \"Best Opponent Beaten\", \"Best_Opp_Rat\": \"Best Opp Rating\"})\n"
      ],
      "metadata": {
        "id": "eD_j6Kb55aCI"
      },
      "execution_count": null,
      "outputs": []
    },
    {
      "cell_type": "markdown",
      "source": [
        "**To view the top 25 Ratings in Saber**"
      ],
      "metadata": {
        "id": "WGjKcZ-RCHEz"
      }
    },
    {
      "cell_type": "code",
      "source": [
        "df_fencing_ratings_simpler.sort_values(['Saber Rating'], ascending=False)[:25]"
      ],
      "metadata": {
        "id": "d37h5EHUIrq-"
      },
      "execution_count": null,
      "outputs": []
    },
    {
      "cell_type": "markdown",
      "source": [
        "**To Look Up a Fencer Based on First and Last Name**"
      ],
      "metadata": {
        "id": "XcI_o_MMCjXE"
      }
    },
    {
      "cell_type": "code",
      "source": [
        "last_name = 'Homer'\n",
        "first_name = 'Daryl'\n",
        "df_fencing_ratings_simpler.loc[df_fencing_ratings_simpler['Name'].str.contains(last_name, case=False) & df_fencing_ratings['Name'].str.contains(first_name, case=False)]"
      ],
      "metadata": {
        "id": "2UwAO9Mv6ErF"
      },
      "execution_count": null,
      "outputs": []
    }
  ]
}